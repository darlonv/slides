{
 "cells": [
  {
   "cell_type": "markdown",
   "metadata": {
    "slideshow": {
     "slide_type": "slide"
    }
   },
   "source": [
    "# Mineração de Dados e Descoberta de conhecimento\n",
    "SCIENTIF - 12/09/2019\n",
    "- Darlon Vasata\n",
    "- Roberta Vanessa Rojo Parcianello\n",
    "- Augusto Seben da Rosa\n",
    "- Lucas Motter\n",
    "- Lucas Ruchel"
   ]
  },
  {
   "cell_type": "markdown",
   "metadata": {
    "slideshow": {
     "slide_type": "slide"
    }
   },
   "source": [
    "## Introdução\n",
    "- Grande avanço e diminuição de custos dos dispositivos de armazenamento\n",
    "- Aumento na geração de dados. Experimentos científicos, redes sociais, dados \n",
    "- Resultado: grandes quantidade de dados\n",
    "- Problema: analisar esses dados"
   ]
  },
  {
   "cell_type": "markdown",
   "metadata": {
    "slideshow": {
     "slide_type": "slide"
    }
   },
   "source": [
    "## O processo de descoberta de conhecimento\n",
    "- KDD (*Knowledge Data Discovery*)\n",
    "- A mineração de dados é parte do processo"
   ]
  },
  {
   "cell_type": "markdown",
   "metadata": {
    "slideshow": {
     "slide_type": "-"
    }
   },
   "source": [
    "![figura](imagens/kdd.png)\n",
    "Fonte: Adaptado de FAYYAD, 1996"
   ]
  },
  {
   "cell_type": "markdown",
   "metadata": {
    "slideshow": {
     "slide_type": "slide"
    }
   },
   "source": [
    "## Estado atual do projeto\n",
    "- Estudo de diferentes algoritmos por diferentes membros do projeto\n",
    "- Diversos métidos\n",
    "    - Modelos preditivos\n",
    "        - com base em distâncias\n",
    "            - *K-Means*\n",
    "        - probabilísticos\n",
    "            - *Naive* Bayes\n",
    "        - baseados em otimização\n",
    "            - Redes Neurais Artificiais"
   ]
  },
  {
   "cell_type": "markdown",
   "metadata": {
    "slideshow": {
     "slide_type": "subslide"
    }
   },
   "source": [
    "## Estado atual do projeto\n",
    "- Linguagem de programação python\n",
    "- Utilização de bibliotecas especializadas\n",
    "    - Numpy\n",
    "    - Pandas\n",
    "    - Scikit-Learn\n",
    "    - Matplotlib\n",
    "    - Seaborn\n",
    "- Trabalhos derivados:\n",
    "    - Reconhecimento de formato de corpo\n",
    "- Busca por bases de dados\n",
    "    - Dados reais\n",
    "    - Dados locais"
   ]
  },
  {
   "cell_type": "markdown",
   "metadata": {
    "slideshow": {
     "slide_type": "subslide"
    }
   },
   "source": [
    "### Infraestrutura utilizada\n",
    "- Laboratório de informática\n",
    "\n",
    "![lab](imagens/lab80.jpg)  \n",
    "\n",
    "Fonte: Próprio autor.\n"
   ]
  },
  {
   "cell_type": "markdown",
   "metadata": {
    "slideshow": {
     "slide_type": "subslide"
    }
   },
   "source": [
    "### Infraestrutura utilizada\n",
    "- *Cloud* GENI (BERMAN, 2014) \n",
    "\n",
    "![geni](imagens/geni2.jpg)\n",
    "Fonte: [GENI. Geni Portal](https://portal.geni.net/)"
   ]
  },
  {
   "cell_type": "markdown",
   "metadata": {
    "slideshow": {
     "slide_type": "slide"
    }
   },
   "source": [
    "## Trabalhos futuros\n",
    "- Previsão aeroporto\n",
    "- Aplicação de redes neurais (reconhecimento de escrita à mão?)\n",
    "- Agrupamento de dados (base ainda a definir)\n",
    "- Trabalhos derivados:\n",
    "    - Detecção de trechos de código semelhantes (DTW - *Dinamic Time Warping*)\n",
    "    - Buscas em documentos jurídicos (Reconhecimento de linguagem)\n",
    "    - Reconhecimento de células cancerígenas em imagens (Redes Neurais Convolucionais)\n",
    "    - Observatório social\n",
    "    - Biopark"
   ]
  },
  {
   "cell_type": "markdown",
   "metadata": {
    "slideshow": {
     "slide_type": "slide"
    }
   },
   "source": [
    "## Referências\n",
    "FACELLI, K., LORENA, A.C., GAMA, J., CARVALHO, A.C.P.L.F. Inteligência artificial: uma abordagem de aprendizado de máquina. Rio de Janeiro: LTC, 2015.  \n",
    "[BERMAN, Mark et al. GENI: A federated testbed for innovative network experiments. Computer Networks, v. 61, p. 5-23, 2014.](https://www.sciencedirect.com/science/article/abs/pii/S1389128613004507)  \n",
    "[GENI. Geni Portal](https://portal.geni.net/)"
   ]
  },
  {
   "cell_type": "markdown",
   "metadata": {
    "slideshow": {
     "slide_type": "slide"
    }
   },
   "source": [
    "### Obrigado!\n",
    "\n",
    ":wq"
   ]
  }
 ],
 "metadata": {
  "celltoolbar": "Slideshow",
  "kernelspec": {
   "display_name": "Python 3",
   "language": "python",
   "name": "python3"
  },
  "language_info": {
   "codemirror_mode": {
    "name": "ipython",
    "version": 3
   },
   "file_extension": ".py",
   "mimetype": "text/x-python",
   "name": "python",
   "nbconvert_exporter": "python",
   "pygments_lexer": "ipython3",
   "version": "3.6.8"
  }
 },
 "nbformat": 4,
 "nbformat_minor": 2
}
